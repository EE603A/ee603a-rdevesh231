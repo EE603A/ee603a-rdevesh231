{
  "cells": [
    {
      "cell_type": "code",
      "execution_count": 1,
      "metadata": {
        "colab": {
          "base_uri": "https://localhost:8080/"
        },
        "id": "m4cv1ij6dZrr",
        "outputId": "614579ae-3cfe-415c-a419-c743569805f0"
      },
      "outputs": [
        {
          "output_type": "execute_result",
          "data": {
            "text/plain": [
              "25"
            ]
          },
          "metadata": {},
          "execution_count": 1
        }
      ],
      "source": [
        "import numpy as np\n",
        "import pandas as pd\n",
        "import os\n",
        "from tensorflow import keras\n",
        "from tensorflow.compat.v1 import ConfigProto\n",
        "from tensorflow.compat.v1 import InteractiveSession\n",
        "config = ConfigProto()\n",
        "config.gpu_options.allow_growth = True\n",
        "session = InteractiveSession(config=config)\n",
        "from keras.layers import Bidirectional, TimeDistributed,SpatialDropout2D, Conv2D, MaxPool2D, Input, GRU, LSTM,Dense, Activation, Dropout,Flatten, Reshape, Permute\n",
        "from keras.layers import BatchNormalization,ZeroPadding1D\n",
        "from keras.models import Sequential,Model\n",
        "import keras.backend as K\n",
        "import os\n",
        "import numpy as np\n",
        "K.set_image_data_format('channels_last')\n",
        "from tensorflow.keras.callbacks import EarlyStopping\n",
        "from tensorflow.keras.callbacks import ModelCheckpoint\n",
        "import tensorflow as tf\n",
        "from matplotlib.backends.backend_agg import FigureCanvasAgg as FigureCanvas\n",
        "import matplotlib.pyplot as plt\n",
        "import librosa.display as dis\n",
        "import librosa\n",
        "from keras_preprocessing.image import ImageDataGenerator\n",
        "from sklearn.utils import shuffle\n",
        "from sklearn.model_selection import train_test_split\n",
        "import gc\n",
        "gc.collect()"
      ]
    },
    {
      "cell_type": "code",
      "execution_count": 1,
      "metadata": {
        "colab": {
          "base_uri": "https://localhost:8080/"
        },
        "id": "PToqMCYheSoP",
        "outputId": "5c8daa13-85fa-41c2-d20b-f3b199bd4efb"
      },
      "outputs": [
        {
          "output_type": "stream",
          "name": "stdout",
          "text": [
            "Mounted at /content/drive\n"
          ]
        }
      ],
      "source": [
        "from google.colab import drive\n",
        "drive.mount('/content/drive')"
      ]
    },
    {
      "cell_type": "markdown",
      "source": [
        "**Method1**- By Using spectrogram coefficient as input to the network"
      ],
      "metadata": {
        "id": "dfWaUUcQQNoh"
      }
    },
    {
      "cell_type": "code",
      "execution_count": 2,
      "metadata": {
        "id": "qQJLn9KfdZr_"
      },
      "outputs": [],
      "source": [
        "df=pd.read_csv(\"/content/drive/MyDrive/annotations.csv\")\n",
        "X_train=np.zeros((1000,128,2500,1))\n",
        "Y_train=np.zeros((1000,10))\n",
        "classes={\n",
        "    \"Bark\":0,\n",
        "    \"Meow\":1,\n",
        "    \"Siren\":2,\n",
        "    \"Shatter\":3,\n",
        "    \"Knock\":4,\n",
        "    \"Crying_and_sobbing\":5,\n",
        "    \"Microwave_oven\":6,\n",
        "    \"Vehicle_horn_and_car_horn_and_honking\":7,\n",
        "    \"Doorbell\":8,\n",
        "    \"Walk_and_footsteps\":9\n",
        "}"
      ]
    },
    {
      "cell_type": "markdown",
      "source": [
        "Resizing each Spectrogram to (128,2500,1) by Zero padding"
      ],
      "metadata": {
        "id": "7jA0SX7HQyD6"
      }
    },
    {
      "cell_type": "code",
      "source": [
        "i=0\n",
        "path=\"/content/drive/MyDrive/train\"\n",
        "for filename in os.listdir(path):\n",
        "    file=f\"{path}/{filename}\"\n",
        "    x=np.load(file)\n",
        "    #print(filename)\n",
        "    l=list(df.label[df.fname==filename])\n",
        "    l=l[0]\n",
        "    if x.shape[2]<2500:\n",
        "        X_train[i,:,0:x.shape[2],0]=x[0,:,:]\n",
        "        X_train[i,:,x.shape[2]:2500,0]=0\n",
        "    else:\n",
        "        X_train[i,:,0:2500,0]=x[0,:,0:2500]\n",
        "    Y_train[i,classes[l]]=1\n",
        "    i=i+1"
      ],
      "metadata": {
        "id": "88406d4C1C3i"
      },
      "execution_count": 3,
      "outputs": []
    },
    {
      "cell_type": "code",
      "source": [
        "print(Y_train[0])\n",
        "print(X_train[0].shape)\n",
        "X_train,Y_train=shuffle(X_train,Y_train)\n",
        "x_train, x_test, y_train, y_test = train_test_split(X_train,Y_train, test_size=0.20, random_state=42)"
      ],
      "metadata": {
        "id": "iY9uZ-zr1LxO"
      },
      "execution_count": null,
      "outputs": []
    },
    {
      "cell_type": "code",
      "execution_count": 5,
      "metadata": {
        "id": "7glCTSSadZsF"
      },
      "outputs": [],
      "source": [
        "pool=tf.keras.layers.GlobalAveragePooling2D()"
      ]
    },
    {
      "cell_type": "markdown",
      "source": [
        "Convolutional Neural Network"
      ],
      "metadata": {
        "id": "tQZ5vCfyQ-5g"
      }
    },
    {
      "cell_type": "code",
      "source": [
        "def build_model():\n",
        "    model = Sequential()\n",
        "    model.add(Conv2D(input_shape=(128,2500,1),filters=4,kernel_size=(3,3),padding=\"same\", activation=\"relu\"))\n",
        "    model.add(Conv2D(filters=4,kernel_size=(3,3),padding=\"same\", activation=\"relu\"))\n",
        "    model.add(BatchNormalization())\n",
        "    model.add(MaxPool2D(pool_size=(2,2),strides=(2,2)))\n",
        "    model.add(SpatialDropout2D(rate=0.3))\n",
        "    model.add(Conv2D(filters=8, kernel_size=(3,3), padding=\"same\", activation=\"relu\"))\n",
        "    model.add(Conv2D(filters=8, kernel_size=(3,3), padding=\"same\", activation=\"relu\"))\n",
        "    model.add(BatchNormalization())\n",
        "    model.add(MaxPool2D(pool_size=(2,2),strides=(2,2)))\n",
        "    model.add(SpatialDropout2D(rate=0.3))\n",
        "    model.add(Conv2D(filters=16, kernel_size=(3,3), padding=\"same\", activation=\"relu\"))\n",
        "    model.add(Conv2D(filters=16, kernel_size=(3,3), padding=\"same\", activation=\"relu\"))\n",
        "    model.add(BatchNormalization())\n",
        "    model.add(MaxPool2D(pool_size=(2,2),strides=(2,2)))\n",
        "    model.add(SpatialDropout2D(rate=0.3))\n",
        "    model.add(Conv2D(filters=32, kernel_size=(3,3), padding=\"same\", activation=\"relu\"))\n",
        "    model.add(Conv2D(filters=32, kernel_size=(3,3), padding=\"same\", activation=\"relu\"))\n",
        "    model.add(BatchNormalization())\n",
        "    model.add(MaxPool2D(pool_size=(2,2),strides=(2,2)))\n",
        "    model.add(SpatialDropout2D(rate=0.3))\n",
        "    model.add(Conv2D(filters=64, kernel_size=(3,3), padding=\"same\", activation=\"relu\"))\n",
        "    model.add(Conv2D(filters=64, kernel_size=(3,3), padding=\"same\", activation=\"relu\"))\n",
        "    model.add(BatchNormalization())\n",
        "    model.add(MaxPool2D(pool_size=(2,2),strides=(2,2)))\n",
        "    model.add(SpatialDropout2D(rate=0.3))\n",
        "    model.add(pool)\n",
        "    model.add(Flatten())\n",
        "    # model.add(Dense(units=64,activation=\"relu\"))\n",
        "    model.add(Dense(units=32,activation=\"relu\"))\n",
        "    model.add(Dense(units=10, activation=\"softmax\"))\n",
        "    model.compile(optimizer='Adam', loss=keras.losses.categorical_crossentropy, metrics=[keras.metrics.CategoricalAccuracy()])\n",
        "    model.summary()\n",
        "    return model"
      ],
      "metadata": {
        "id": "RblsfE9e1R9k"
      },
      "execution_count": 6,
      "outputs": []
    },
    {
      "cell_type": "code",
      "source": [
        "m=build_model()"
      ],
      "metadata": {
        "id": "atkspRaX1bSG"
      },
      "execution_count": null,
      "outputs": []
    },
    {
      "cell_type": "code",
      "execution_count": 8,
      "metadata": {
        "id": "naRlcJ7LdZsL"
      },
      "outputs": [],
      "source": [
        "def accuracy(x,y,mod):\n",
        "    y_pred=mod.predict(x)\n",
        "    y_pred=np.argmax(y_pred,axis=1)\n",
        "    y_actual=np.argmax(y,axis=1)\n",
        "    r=0\n",
        "    for i in range(x.shape[0]):\n",
        "        if y_pred[i]==y_actual[i]:\n",
        "            r=r+1\n",
        "    return r/x.shape[0]"
      ]
    },
    {
      "cell_type": "code",
      "source": [
        "checkpoint = ModelCheckpoint('/content/drive/MyDrive/best_model1.h5', monitor='val_loss', verbose=1, save_best_only=True)\n",
        "early = EarlyStopping(monitor=\"val_loss\", mode=\"min\", patience=5)\n",
        "callbacks_list = [checkpoint, early]\n",
        "m.fit(x_train,y_train,\n",
        "                    validation_data=(x_test, y_test),\n",
        "                    callbacks=callbacks_list,\n",
        "                     batch_size=32,\n",
        "                    epochs=20\n",
        ")"
      ],
      "metadata": {
        "id": "ZVnycFwpUGy3"
      },
      "execution_count": null,
      "outputs": []
    },
    {
      "cell_type": "code",
      "execution_count": 9,
      "metadata": {
        "colab": {
          "base_uri": "https://localhost:8080/"
        },
        "id": "aCx5LUgqdZsQ",
        "outputId": "a7175f59-5b53-4415-fede-fbed91a0c5cd"
      },
      "outputs": [
        {
          "output_type": "stream",
          "name": "stdout",
          "text": [
            "0.93\n"
          ]
        }
      ],
      "source": [
        "model_b = keras.models.load_model('/content/drive/MyDrive/best_model.h5')\n",
        "print(accuracy(x_test,y_test,model_b))"
      ]
    },
    {
      "cell_type": "code",
      "source": [
        "model_b.evaluate(\n",
        "    x=x_test,\n",
        "    y=y_test,\n",
        "    batch_size=32,\n",
        "    verbose='auto',\n",
        "    sample_weight=None,\n",
        "    steps=None,\n",
        "    callbacks=None,\n",
        "    max_queue_size=10,\n",
        "    workers=1,\n",
        "    use_multiprocessing=False,\n",
        "    return_dict=False,\n",
        ")"
      ],
      "metadata": {
        "id": "kpeO-C45pVUF"
      },
      "execution_count": null,
      "outputs": []
    },
    {
      "cell_type": "code",
      "source": [
        "gc.collect()"
      ],
      "metadata": {
        "id": "-eYzzsMZ0ube"
      },
      "execution_count": null,
      "outputs": []
    },
    {
      "cell_type": "markdown",
      "source": [
        "Preprocessing(Zero padding) test dataset for prediction "
      ],
      "metadata": {
        "id": "lPsfHnyCRlN7"
      }
    },
    {
      "cell_type": "code",
      "source": [
        "i=0\n",
        "x_testf=np.zeros((201,128,2500,1))\n",
        "path=\"/content/drive/MyDrive/test/Audio_Classification-MLSP-test\"\n",
        "for filename in os.listdir(path):\n",
        "    file=f\"{path}/{filename}\"\n",
        "    x=np.load(file)\n",
        "    if x.shape[2]<2500:\n",
        "        x_testf[i,:,0:x.shape[2],0]=x[0,:,:]\n",
        "        x_testf[i,:,x.shape[2]:2500,0]=0\n",
        "    else:\n",
        "        x_testf[i,:,0:2500,0]=x[0,:,0:2500]\n",
        "    i=i+1\n",
        "    if i>=201:\n",
        "        break"
      ],
      "metadata": {
        "id": "E2XCXqtI5DiF"
      },
      "execution_count": 10,
      "outputs": []
    },
    {
      "cell_type": "code",
      "source": [
        "y=model_b.predict(x_testf)"
      ],
      "metadata": {
        "id": "AGImW1nI6yUq"
      },
      "execution_count": 11,
      "outputs": []
    },
    {
      "cell_type": "code",
      "source": [
        "y_p=np.argmax(y, axis=1)"
      ],
      "metadata": {
        "id": "vrQ_x7ou66jb"
      },
      "execution_count": 12,
      "outputs": []
    },
    {
      "cell_type": "code",
      "source": [
        "key_list = list(classes.keys())\n",
        "val_list = list(classes.values())\n",
        "position = [val_list.index(p) for p in y_p]\n",
        "key=[key_list[p] for p in position]"
      ],
      "metadata": {
        "id": "g5wZzyfv74FT"
      },
      "execution_count": 47,
      "outputs": []
    },
    {
      "cell_type": "code",
      "source": [
        "test_df=pd.DataFrame()\n",
        "test_df[\"id\"]=os.listdir(\"/content/drive/MyDrive/test/Audio_Classification-MLSP-test\")"
      ],
      "metadata": {
        "id": "sQA_xffsBSWJ"
      },
      "execution_count": 49,
      "outputs": []
    },
    {
      "cell_type": "code",
      "source": [
        "test_df[\"label\"]=key"
      ],
      "metadata": {
        "id": "ZFueB38iBnGJ"
      },
      "execution_count": 50,
      "outputs": []
    },
    {
      "cell_type": "code",
      "source": [
        "test_df.to_csv(\"/content/drive/MyDrive/test_p.csv\")"
      ],
      "metadata": {
        "id": "F41n0B4iBsi_"
      },
      "execution_count": 51,
      "outputs": []
    },
    {
      "cell_type": "markdown",
      "source": [
        "**Method 2** By converting spectrogram to images "
      ],
      "metadata": {
        "id": "4DsoCRSJQFEx"
      }
    },
    {
      "cell_type": "code",
      "source": [
        "path=\"/content/drive/MyDrive/train\"\n",
        "for filename in os.listdir(path):\n",
        "  file=f\"{path}/{filename}\"\n",
        "  x=np.load(file)\n",
        "  x=x[0]\n",
        "  fig = plt.Figure()\n",
        "  canvas = FigureCanvas(fig)\n",
        "  ax = fig.add_subplot(111)\n",
        "  p = dis.specshow(librosa.amplitude_to_db(x, ref=np.max), ax=ax, y_axis='log', x_axis='time')\n",
        "  f=f\"{filename[:-4]}.png\"\n",
        "  fig.savefig(f\"/content/train_images/{f}\")"
      ],
      "metadata": {
        "id": "dhL3A7ymQHRf"
      },
      "execution_count": 18,
      "outputs": []
    },
    {
      "cell_type": "markdown",
      "source": [
        "Loading image files using opencv"
      ],
      "metadata": {
        "id": "QcjJ8QktSvvb"
      }
    },
    {
      "cell_type": "code",
      "source": [
        "i=0\n",
        "gc.collect()\n",
        "import cv2 as cv\n",
        "x_trainf=np.zeros((1000,288,432,3))\n",
        "y_trainf=np.zeros((1000,10))\n",
        "path1=\"/content/train_images\"\n",
        "for filename in os.listdir(path1):\n",
        "    if filename[0]=='.':\n",
        "      continue\n",
        "    file=f\"{path1}/{filename}\"\n",
        "    x=cv.imread(file)\n",
        "    x=x/255\n",
        "    #print(filename)\n",
        "    filename_npy=f\"{filename[:-4]}.npy\"\n",
        "    l=list(df.label[df.fname==filename_npy])\n",
        "    l=l[0]\n",
        "    x_trainf[i]=x\n",
        "    y_trainf[i,classes[l]]=1\n",
        "    i=i+1"
      ],
      "metadata": {
        "id": "Ieb6tZ81Sj4T"
      },
      "execution_count": null,
      "outputs": []
    },
    {
      "cell_type": "markdown",
      "source": [
        "change input shape to (288,432,3) in previous model\n",
        "(288,432,3) is the shape of all spectrogram images"
      ],
      "metadata": {
        "id": "PmQ0-5PsS_5M"
      }
    },
    {
      "cell_type": "code",
      "source": [
        "def build_model1():\n",
        "    model = Sequential()\n",
        "    model.add(Conv2D(input_shape=(288,432,3),filters=4,kernel_size=(3,3),padding=\"same\", activation=\"relu\"))\n",
        "    model.add(Conv2D(filters=4,kernel_size=(3,3),padding=\"same\", activation=\"relu\"))\n",
        "    model.add(BatchNormalization())\n",
        "    model.add(MaxPool2D(pool_size=(2,2),strides=(2,2)))\n",
        "    model.add(SpatialDropout2D(rate=0.3))\n",
        "    model.add(Conv2D(filters=8, kernel_size=(3,3), padding=\"same\", activation=\"relu\"))\n",
        "    model.add(Conv2D(filters=8, kernel_size=(3,3), padding=\"same\", activation=\"relu\"))\n",
        "    model.add(BatchNormalization())\n",
        "    model.add(MaxPool2D(pool_size=(2,2),strides=(2,2)))\n",
        "    model.add(SpatialDropout2D(rate=0.3))\n",
        "    model.add(Conv2D(filters=16, kernel_size=(3,3), padding=\"same\", activation=\"relu\"))\n",
        "    model.add(Conv2D(filters=16, kernel_size=(3,3), padding=\"same\", activation=\"relu\"))\n",
        "    model.add(BatchNormalization())\n",
        "    model.add(MaxPool2D(pool_size=(2,2),strides=(2,2)))\n",
        "    model.add(SpatialDropout2D(rate=0.3))\n",
        "    model.add(Conv2D(filters=32, kernel_size=(3,3), padding=\"same\", activation=\"relu\"))\n",
        "    model.add(Conv2D(filters=32, kernel_size=(3,3), padding=\"same\", activation=\"relu\"))\n",
        "    model.add(BatchNormalization())\n",
        "    model.add(MaxPool2D(pool_size=(2,2),strides=(2,2)))\n",
        "    model.add(SpatialDropout2D(rate=0.3))\n",
        "    model.add(Conv2D(filters=64, kernel_size=(3,3), padding=\"same\", activation=\"relu\"))\n",
        "    model.add(Conv2D(filters=64, kernel_size=(3,3), padding=\"same\", activation=\"relu\"))\n",
        "    model.add(BatchNormalization())\n",
        "    model.add(MaxPool2D(pool_size=(2,2),strides=(2,2)))\n",
        "    model.add(SpatialDropout2D(rate=0.3))\n",
        "    model.add(pool)\n",
        "    model.add(Flatten())\n",
        "    # model.add(Dense(units=64,activation=\"relu\"))\n",
        "    model.add(Dense(units=32,activation=\"relu\"))\n",
        "    model.add(Dense(units=10, activation=\"softmax\"))\n",
        "    model.compile(optimizer='Adam', loss=keras.losses.categorical_crossentropy, metrics=[keras.metrics.CategoricalAccuracy()])\n",
        "    model.summary()\n",
        "    return model"
      ],
      "metadata": {
        "id": "dRxSv4dQSLWw"
      },
      "execution_count": null,
      "outputs": []
    },
    {
      "cell_type": "code",
      "source": [
        "m1=build_model1()"
      ],
      "metadata": {
        "id": "dq1qN530TR0u"
      },
      "execution_count": null,
      "outputs": []
    },
    {
      "cell_type": "code",
      "source": [
        "x_trainf,y_trainf=shuffle(x_trainf,y_trainf)\n",
        "x_trainf1, x_testf1, y_trainf1, y_testf1 = train_test_split(x_trainf,y_trainf, test_size=0.20, random_state=42)"
      ],
      "metadata": {
        "id": "DciJnqC6TVcy"
      },
      "execution_count": null,
      "outputs": []
    },
    {
      "cell_type": "code",
      "source": [
        "checkpoint = ModelCheckpoint('/content/sample_data/best_modeli.h5', monitor='val_loss', verbose=1, save_best_only=True)\n",
        "early = EarlyStopping(monitor=\"val_loss\", mode=\"min\", patience=15)\n",
        "callbacks_list = [checkpoint, early]\n",
        "m1.fit(x_trainf1,y_trainf1,\n",
        "                    validation_data=(x_testf1, y_testf1),\n",
        "                    callbacks=callbacks_list,\n",
        "                     batch_size=32,\n",
        "                    epochs=30\n",
        ")"
      ],
      "metadata": {
        "id": "ies6_f4_TfMT"
      },
      "execution_count": null,
      "outputs": []
    },
    {
      "cell_type": "code",
      "source": [
        "m1.evaluate(\n",
        "    x=x_testf1,\n",
        "    y=y_testf1,\n",
        "    batch_size=32,\n",
        "    verbose='auto',\n",
        "    sample_weight=None,\n",
        "    steps=None,\n",
        "    callbacks=None,\n",
        "    max_queue_size=10,\n",
        "    workers=1,\n",
        "    use_multiprocessing=False,s\n",
        "    return_dict=False,\n",
        ")"
      ],
      "metadata": {
        "id": "vEzbQbkCTnjE"
      },
      "execution_count": null,
      "outputs": []
    },
    {
      "cell_type": "markdown",
      "source": [
        "Method 1 is performing better than method 2"
      ],
      "metadata": {
        "id": "iKRsRieWT1vj"
      }
    }
  ],
  "metadata": {
    "accelerator": "GPU",
    "colab": {
      "provenance": [],
      "collapsed_sections": []
    },
    "kernelspec": {
      "display_name": "Python 3.10.4",
      "language": "python",
      "name": "python3"
    },
    "language_info": {
      "codemirror_mode": {
        "name": "ipython",
        "version": 3
      },
      "file_extension": ".py",
      "mimetype": "text/x-python",
      "name": "python",
      "nbconvert_exporter": "python",
      "pygments_lexer": "ipython3",
      "version": "3.10.4"
    },
    "vscode": {
      "interpreter": {
        "hash": "11498a9d52ef1ca26236c58e2744eaee9ddaaa4477b0d6233ba89d5286a0f03c"
      }
    }
  },
  "nbformat": 4,
  "nbformat_minor": 0
}